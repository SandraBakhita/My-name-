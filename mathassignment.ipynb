{
  "nbformat": 4,
  "nbformat_minor": 0,
  "metadata": {
    "colab": {
      "provenance": [],
      "authorship_tag": "ABX9TyPPURbetaGicAcKQb2k2WP6",
      "include_colab_link": true
    },
    "kernelspec": {
      "name": "python3",
      "display_name": "Python 3"
    },
    "language_info": {
      "name": "python"
    }
  },
  "cells": [
    {
      "cell_type": "markdown",
      "metadata": {
        "id": "view-in-github",
        "colab_type": "text"
      },
      "source": [
        "<a href=\"https://colab.research.google.com/github/SandraBakhita/My-name-/blob/main/mathassignment.ipynb\" target=\"_parent\"><img src=\"https://colab.research.google.com/assets/colab-badge.svg\" alt=\"Open In Colab\"/></a>"
      ]
    },
    {
      "cell_type": "code",
      "execution_count": 1,
      "metadata": {
        "id": "tV6jNp5ZuF4r"
      },
      "outputs": [],
      "source": [
        "import numpy as np"
      ]
    },
    {
      "cell_type": "code",
      "source": [
        "matrixA= np.random.randint(1, 10, (2, 3)) #generating random matrices\n",
        "print(matrixA)"
      ],
      "metadata": {
        "colab": {
          "base_uri": "https://localhost:8080/"
        },
        "id": "CgTGbAu1uMib",
        "outputId": "f6506b53-d679-47be-8653-d85654cf9c4d"
      },
      "execution_count": 3,
      "outputs": [
        {
          "output_type": "stream",
          "name": "stdout",
          "text": [
            "[[5 5 8]\n",
            " [6 3 2]]\n"
          ]
        }
      ]
    },
    {
      "cell_type": "code",
      "source": [
        "data_type = matrixA.dtype #data type\n",
        "mean_value = np.mean(matrixA) #mean\n",
        "median_value = np.median(matrixA) #median\n",
        "print(\"Data Type:\", data_type)\n",
        "print(\"Mean:\", mean_value)\n",
        "print(\"Median:\", median_value)"
      ],
      "metadata": {
        "colab": {
          "base_uri": "https://localhost:8080/"
        },
        "id": "Hg0K0dRduUhA",
        "outputId": "a1c9f38f-ef32-4a2a-dc25-f03bf1b793e5"
      },
      "execution_count": 4,
      "outputs": [
        {
          "output_type": "stream",
          "name": "stdout",
          "text": [
            "Data Type: int64\n",
            "Mean: 4.833333333333333\n",
            "Median: 5.0\n"
          ]
        }
      ]
    },
    {
      "cell_type": "code",
      "source": [
        "matrixB=np.random.randint(1,20,(2,3))\n",
        "print(matrixB)"
      ],
      "metadata": {
        "colab": {
          "base_uri": "https://localhost:8080/"
        },
        "id": "C_pyLxkTufJX",
        "outputId": "e531d818-c130-41e0-af5d-ae9d8660989d"
      },
      "execution_count": 5,
      "outputs": [
        {
          "output_type": "stream",
          "name": "stdout",
          "text": [
            "[[ 5 14 14]\n",
            " [ 3 13 10]]\n"
          ]
        }
      ]
    },
    {
      "cell_type": "code",
      "source": [
        "print(matrixA+matrixB) #addition"
      ],
      "metadata": {
        "colab": {
          "base_uri": "https://localhost:8080/"
        },
        "id": "5tC3XQxjujLr",
        "outputId": "1bac43b4-dc74-4729-8804-54b518084400"
      },
      "execution_count": 6,
      "outputs": [
        {
          "output_type": "stream",
          "name": "stdout",
          "text": [
            "[[10 19 22]\n",
            " [ 9 16 12]]\n"
          ]
        }
      ]
    },
    {
      "cell_type": "code",
      "source": [
        "print(matrixA*2) # multiplication"
      ],
      "metadata": {
        "colab": {
          "base_uri": "https://localhost:8080/"
        },
        "id": "F_cdr07iuob7",
        "outputId": "3bc4be17-074c-47b1-e1d9-c5d32b8c4249"
      },
      "execution_count": 7,
      "outputs": [
        {
          "output_type": "stream",
          "name": "stdout",
          "text": [
            "[[10 10 16]\n",
            " [12  6  4]]\n"
          ]
        }
      ]
    },
    {
      "cell_type": "code",
      "source": [
        "print(matrixA*matrixB)"
      ],
      "metadata": {
        "colab": {
          "base_uri": "https://localhost:8080/"
        },
        "id": "h4En1e_8ur5V",
        "outputId": "58cf9a43-3a3c-4ce1-9110-a766e522f236"
      },
      "execution_count": 8,
      "outputs": [
        {
          "output_type": "stream",
          "name": "stdout",
          "text": [
            "[[ 25  70 112]\n",
            " [ 18  39  20]]\n"
          ]
        }
      ]
    },
    {
      "cell_type": "code",
      "source": [
        "print(matrixA.T) #transpose\n"
      ],
      "metadata": {
        "colab": {
          "base_uri": "https://localhost:8080/"
        },
        "id": "IDkTCHOFuvJ9",
        "outputId": "a86265c3-adc8-4a6b-9a06-5c1af2364d78"
      },
      "execution_count": 9,
      "outputs": [
        {
          "output_type": "stream",
          "name": "stdout",
          "text": [
            "[[5 6]\n",
            " [5 3]\n",
            " [8 2]]\n"
          ]
        }
      ]
    },
    {
      "cell_type": "code",
      "source": [
        "print(matrixB.T)"
      ],
      "metadata": {
        "colab": {
          "base_uri": "https://localhost:8080/"
        },
        "id": "B_CSb5lwuymd",
        "outputId": "4849f452-c6e6-4766-845c-31e1b1a79708"
      },
      "execution_count": 10,
      "outputs": [
        {
          "output_type": "stream",
          "name": "stdout",
          "text": [
            "[[ 5  3]\n",
            " [14 13]\n",
            " [14 10]]\n"
          ]
        }
      ]
    },
    {
      "cell_type": "code",
      "source": [
        "print(matrixA-matrixB) #subtraction"
      ],
      "metadata": {
        "colab": {
          "base_uri": "https://localhost:8080/"
        },
        "id": "j6PP80dGu1j_",
        "outputId": "7b66d9ae-7f86-4a46-e1e0-fb8d0424c66f"
      },
      "execution_count": 11,
      "outputs": [
        {
          "output_type": "stream",
          "name": "stdout",
          "text": [
            "[[  0  -9  -6]\n",
            " [  3 -10  -8]]\n"
          ]
        }
      ]
    },
    {
      "cell_type": "markdown",
      "source": [
        "\n",
        "**Research and find a real-world application of matrices in data analysis and explain how it is used.**\n",
        "Computer Graphics and Gaming:\n",
        "\n",
        "Matrices are fundamental in computer graphics and gaming to represent 3D models. They facilitate operations such as scaling, rotation, and translation, as well as contribute to lighting and shading effects."
      ],
      "metadata": {
        "id": "g57z2_gKwYXx"
      }
    },
    {
      "cell_type": "code",
      "source": [],
      "metadata": {
        "id": "mGBy2TEbu4U3"
      },
      "execution_count": null,
      "outputs": []
    }
  ]
}