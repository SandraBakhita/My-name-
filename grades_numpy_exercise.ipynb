{
  "nbformat": 4,
  "nbformat_minor": 0,
  "metadata": {
    "colab": {
      "provenance": [],
      "authorship_tag": "ABX9TyMwN5blp9CPDf9h2w4uK3fp",
      "include_colab_link": true
    },
    "kernelspec": {
      "name": "python3",
      "display_name": "Python 3"
    },
    "language_info": {
      "name": "python"
    }
  },
  "cells": [
    {
      "cell_type": "markdown",
      "metadata": {
        "id": "view-in-github",
        "colab_type": "text"
      },
      "source": [
        "<a href=\"https://colab.research.google.com/github/SandraBakhita/My-name-/blob/main/grades_numpy_exercise.ipynb\" target=\"_parent\"><img src=\"https://colab.research.google.com/assets/colab-badge.svg\" alt=\"Open In Colab\"/></a>"
      ]
    },
    {
      "cell_type": "code",
      "execution_count": 1,
      "metadata": {
        "id": "n0-_wrGn4gXI",
        "colab": {
          "base_uri": "https://localhost:8080/"
        },
        "outputId": "267faa6c-c474-4a88-c1ec-f41d18c3dc76"
      },
      "outputs": [
        {
          "output_type": "stream",
          "name": "stdout",
          "text": [
            "Mean: 87.5\n",
            "Median: 88.5\n",
            "Standard Deviation: 6.591661399070799\n"
          ]
        }
      ],
      "source": [
        "import numpy as np\n",
        "grades=np.array([85, 90, 88, 92, 95, 80, 75, 98, 89, 83])\n",
        "mean=np.mean(grades)\n",
        "median=np.median(grades)\n",
        "std_dev=np.std(grades)\n",
        "print(\"Mean:\", mean)\n",
        "print(\"Median:\", median)\n",
        "print(\"Standard Deviation:\", std_dev)\n"
      ]
    },
    {
      "cell_type": "code",
      "source": [
        "max_grades=np.max(grades)\n",
        "min_grades=np.min(grades)\n",
        "print(\"Maximum Grade:\", max_grades)\n",
        "print(\"Minimum Grade:\", min_grades)"
      ],
      "metadata": {
        "colab": {
          "base_uri": "https://localhost:8080/"
        },
        "id": "8Kvgc3M0bjl9",
        "outputId": "a2829452-dcf5-4053-ee74-57b63121bb03"
      },
      "execution_count": 2,
      "outputs": [
        {
          "output_type": "stream",
          "name": "stdout",
          "text": [
            "Maximum Grade: 98\n",
            "Minimum Grade: 75\n"
          ]
        }
      ]
    },
    {
      "cell_type": "code",
      "source": [
        "print(np.sort(grades))"
      ],
      "metadata": {
        "colab": {
          "base_uri": "https://localhost:8080/"
        },
        "id": "NyvB3jEZbszM",
        "outputId": "aa90b438-df2d-4895-ee6b-d2caf810a45e"
      },
      "execution_count": 3,
      "outputs": [
        {
          "output_type": "stream",
          "name": "stdout",
          "text": [
            "[75 80 83 85 88 89 90 92 95 98]\n"
          ]
        }
      ]
    },
    {
      "cell_type": "code",
      "source": [
        "print(\"Index of the highest grade is: \",np.argmax(grades))"
      ],
      "metadata": {
        "colab": {
          "base_uri": "https://localhost:8080/"
        },
        "id": "fYTWHFFPcMo5",
        "outputId": "b5d4f602-b196-4e3d-99ca-c3b8b1b175b1"
      },
      "execution_count": 5,
      "outputs": [
        {
          "output_type": "stream",
          "name": "stdout",
          "text": [
            "Index of the highest grade is:  7\n"
          ]
        }
      ]
    },
    {
      "cell_type": "code",
      "source": [
        "above_90=np.count_nonzero(grades>90)\n",
        "print(\"Number of grades above 90:\", above_90)"
      ],
      "metadata": {
        "colab": {
          "base_uri": "https://localhost:8080/"
        },
        "id": "9gUkkYjpdO3E",
        "outputId": "deb60f97-07b8-424e-f061-48634a6ef7d1"
      },
      "execution_count": 6,
      "outputs": [
        {
          "output_type": "stream",
          "name": "stdout",
          "text": [
            "Number of grades above 90: 3\n"
          ]
        }
      ]
    },
    {
      "cell_type": "code",
      "source": [
        "percentage_above_90=above_90/len(grades)*100\n",
        "print(\"Percentage of grades above 90:\", percentage_above_90)"
      ],
      "metadata": {
        "colab": {
          "base_uri": "https://localhost:8080/"
        },
        "id": "pzFMV9qPqTsk",
        "outputId": "af8e5567-79cb-4a52-e983-2f0c2d5f753c"
      },
      "execution_count": 7,
      "outputs": [
        {
          "output_type": "stream",
          "name": "stdout",
          "text": [
            "Percentage of grades above 90: 30.0\n"
          ]
        }
      ]
    },
    {
      "cell_type": "code",
      "source": [
        "below_75=np.count_nonzero(grades<75)\n",
        "below_75_percentage=below_75/len(grades)*100\n",
        "print(\"Percentage of grades below 75:\", below_75_percentage)"
      ],
      "metadata": {
        "colab": {
          "base_uri": "https://localhost:8080/"
        },
        "id": "bLdneIo2rErZ",
        "outputId": "d00078d8-53d3-4785-a555-1dff40ff0958"
      },
      "execution_count": 8,
      "outputs": [
        {
          "output_type": "stream",
          "name": "stdout",
          "text": [
            "Percentage of grades below 75: 0.0\n"
          ]
        }
      ]
    },
    {
      "cell_type": "code",
      "source": [
        "high_performers=grades[grades>90]\n",
        "print(\"Grades above 90:\", high_performers)"
      ],
      "metadata": {
        "colab": {
          "base_uri": "https://localhost:8080/"
        },
        "id": "xYxXOtwArSad",
        "outputId": "a0d6f807-60f4-4268-e8d1-2df43645cb4b"
      },
      "execution_count": 9,
      "outputs": [
        {
          "output_type": "stream",
          "name": "stdout",
          "text": [
            "Grades above 90: [92 95 98]\n"
          ]
        }
      ]
    },
    {
      "cell_type": "code",
      "source": [
        "passing_grades=grades[grades>=75]\n",
        "print(\"Passing Grades:\", passing_grades)"
      ],
      "metadata": {
        "colab": {
          "base_uri": "https://localhost:8080/"
        },
        "id": "RIwZfri0tfJF",
        "outputId": "2084a0bd-7917-4533-d70b-21beb397e8a8"
      },
      "execution_count": 10,
      "outputs": [
        {
          "output_type": "stream",
          "name": "stdout",
          "text": [
            "Passing Grades: [85 90 88 92 95 80 75 98 89 83]\n"
          ]
        }
      ]
    },
    {
      "cell_type": "code",
      "source": [],
      "metadata": {
        "id": "NH_PyfJBtnGF"
      },
      "execution_count": null,
      "outputs": []
    }
  ]
}