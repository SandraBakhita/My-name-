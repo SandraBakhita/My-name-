{
  "nbformat": 4,
  "nbformat_minor": 0,
  "metadata": {
    "colab": {
      "provenance": [],
      "authorship_tag": "ABX9TyPqnxr+zunwsUcqaxR0ygCt",
      "include_colab_link": true
    },
    "kernelspec": {
      "name": "python3",
      "display_name": "Python 3"
    },
    "language_info": {
      "name": "python"
    }
  },
  "cells": [
    {
      "cell_type": "markdown",
      "metadata": {
        "id": "view-in-github",
        "colab_type": "text"
      },
      "source": [
        "<a href=\"https://colab.research.google.com/github/SandraBakhita/My-name-/blob/main/bank_account.ipynb\" target=\"_parent\"><img src=\"https://colab.research.google.com/assets/colab-badge.svg\" alt=\"Open In Colab\"/></a>"
      ]
    },
    {
      "cell_type": "code",
      "execution_count": 3,
      "metadata": {
        "colab": {
          "base_uri": "https://localhost:8080/"
        },
        "id": "piy1Y802lCyQ",
        "outputId": "605f60d1-2c4f-4ff2-be7a-07698f359f84"
      },
      "outputs": [
        {
          "output_type": "stream",
          "name": "stdout",
          "text": [
            "3800.0\n",
            "10500.0\n"
          ]
        }
      ],
      "source": [
        "class Account: #created the Class Account with the attributes\n",
        "    def __init__(self, account_number: str, account_balance: float, account_holder: str):\n",
        "        self.account_number: str = account_number\n",
        "        self.account_balance: float = account_balance\n",
        "        self.account_holder: str = account_holder\n",
        "    def deposit (self, amount:float): #defined deposit method\n",
        "        self.account_balance+=amount\n",
        "    def withdraw(self, amount:float): #defined withdraw ,ethod\n",
        "        if self.account_balance>=amount:\n",
        "            self.account_balance-=amount\n",
        "    def check_balance(self): #defined check balance method\n",
        "        return self.account_balance\n",
        "\n",
        "my_account=Account('303030',2000.00,'Sandra') #instance of the Account class\n",
        "\n",
        "my_account.deposit(2000.00)\n",
        "my_account.withdraw(200.00)\n",
        "\n",
        "print(my_account.check_balance())\n",
        "\n",
        "\n",
        "mom_account=Account('200200', 10000.00,'Anne')\n",
        "mom_account.deposit(1000.00)\n",
        "mom_account.withdraw(500.00)\n",
        "print(mom_account.check_balance())\n"
      ]
    }
  ]
}